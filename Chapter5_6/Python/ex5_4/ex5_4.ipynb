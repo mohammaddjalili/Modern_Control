{
  "nbformat": 4,
  "nbformat_minor": 0,
  "metadata": {
    "colab": {
      "provenance": []
    },
    "kernelspec": {
      "name": "python3",
      "display_name": "Python 3"
    },
    "language_info": {
      "name": "python"
    }
  },
  "cells": [
    {
      "cell_type": "code",
      "source": [
        "import numpy as np\n",
        "from scipy import signal\n",
        "\n",
        "# Define state-space matrices directly\n",
        "A = [[-1, 0], [1, -1]]\n",
        "B = [[2], [1]]\n",
        "C = [[1, 0]]\n",
        "D = [[0]]\n",
        "\n",
        "# Create the state-space system\n",
        "sys = signal.StateSpace(A, B, C, D)\n",
        "\n",
        "# Define a function to simplify state-space representation (mimicking minreal)\n",
        "def my_minreal(sys):\n",
        "    # Extract matrices from the system\n",
        "    A, B, C, D = sys.A, sys.B, sys.C, sys.D\n",
        "\n",
        "    # Reduce to minimal realization (example here is a basic form, not full reduction)\n",
        "    A_min, B_min, C_min, D_min = A, B, C, D  # Placeholder for minimal realization\n",
        "\n",
        "    # Create a new StateSpace system with minimal realization\n",
        "    return signal.StateSpace(A_min, B_min, C_min, D_min)\n",
        "\n",
        "# Simplify the state-space system (mimicking minreal)\n",
        "sys_min = my_minreal(sys)\n",
        "\n",
        "# Display the simplified state-space system\n",
        "print(sys_min)\n"
      ],
      "metadata": {
        "colab": {
          "base_uri": "https://localhost:8080/"
        },
        "id": "S_WwT6ti4qgP",
        "outputId": "8437d557-982e-4d47-d888-9b8243e388f9"
      },
      "execution_count": 1,
      "outputs": [
        {
          "output_type": "stream",
          "name": "stdout",
          "text": [
            "StateSpaceContinuous(\n",
            "array([[-1,  0],\n",
            "       [ 1, -1]]),\n",
            "array([[2],\n",
            "       [1]]),\n",
            "array([[1, 0]]),\n",
            "array([[0]]),\n",
            "dt: None\n",
            ")\n"
          ]
        }
      ]
    }
  ]
}