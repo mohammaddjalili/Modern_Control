{
  "nbformat": 4,
  "nbformat_minor": 0,
  "metadata": {
    "colab": {
      "provenance": []
    },
    "kernelspec": {
      "name": "python3",
      "display_name": "Python 3"
    },
    "language_info": {
      "name": "python"
    }
  },
  "cells": [
    {
      "cell_type": "code",
      "source": [
        "import numpy as np\n",
        "import control\n",
        "from scipy.linalg import null_space\n",
        "\n",
        "# Define matrices A and B\n",
        "A = np.array([[-3/2, 1/2],\n",
        "              [1/2, -3/2]])\n",
        "\n",
        "B = np.array([[1/2],\n",
        "              [1/2]])\n",
        "\n",
        "# Compute the controllability matrix C using control library\n",
        "C = control.ctrb(A, B)\n",
        "\n",
        "# Calculate the rank of the controllability matrix\n",
        "rank_C = np.linalg.matrix_rank(C)\n",
        "\n",
        "# Calculate the null space of the controllability matrix using scipy\n",
        "null_C = null_space(C)\n",
        "\n",
        "print(\"Controllability matrix (C):\")\n",
        "print(C)\n",
        "\n",
        "print(\"\\nRank of the controllability matrix:\")\n",
        "print(rank_C)\n",
        "\n",
        "print(\"\\nNull space of the controllability matrix:\")\n",
        "print(null_C)\n"
      ],
      "metadata": {
        "colab": {
          "base_uri": "https://localhost:8080/"
        },
        "id": "ISFR-GvIM6-u",
        "outputId": "1bf6e633-231a-463f-91e6-3cfd2db7cdd8"
      },
      "execution_count": 2,
      "outputs": [
        {
          "output_type": "stream",
          "name": "stdout",
          "text": [
            "Controllability matrix (C):\n",
            "[[ 0.5 -0.5]\n",
            " [ 0.5 -0.5]]\n",
            "\n",
            "Rank of the controllability matrix:\n",
            "1\n",
            "\n",
            "Null space of the controllability matrix:\n",
            "[[0.70710678]\n",
            " [0.70710678]]\n"
          ]
        }
      ]
    }
  ]
}