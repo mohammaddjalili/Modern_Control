{
  "nbformat": 4,
  "nbformat_minor": 0,
  "metadata": {
    "colab": {
      "provenance": []
    },
    "kernelspec": {
      "name": "python3",
      "display_name": "Python 3"
    },
    "language_info": {
      "name": "python"
    }
  },
  "cells": [
    {
      "cell_type": "code",
      "execution_count": 2,
      "metadata": {
        "colab": {
          "base_uri": "https://localhost:8080/"
        },
        "id": "ardo8rHTIMpg",
        "outputId": "17273098-0d4e-49fa-d5df-186ad9c66d74"
      },
      "outputs": [
        {
          "output_type": "stream",
          "name": "stdout",
          "text": [
            "Observability matrix (O):\n",
            "[[ 1. -1.]\n",
            " [-2.  2.]]\n",
            "\n",
            "Rank of the observability matrix:\n",
            "1\n",
            "\n",
            "Null space of the observability matrix:\n",
            "[[0.70710678]\n",
            " [0.70710678]]\n"
          ]
        }
      ],
      "source": [
        "import numpy as np\n",
        "import control\n",
        "from scipy.linalg import null_space\n",
        "\n",
        "# Define matrices A and C\n",
        "A = np.array([[-3/2, 1/2],\n",
        "              [1/2, -3/2]])\n",
        "\n",
        "C = np.array([[1, -1]])\n",
        "\n",
        "# Compute the observability matrix O using control library\n",
        "O = control.obsv(A, C)\n",
        "\n",
        "# Calculate the rank of the observability matrix\n",
        "rank_O = np.linalg.matrix_rank(O)\n",
        "\n",
        "# Calculate the null space of the observability matrix using scipy\n",
        "null_O = null_space(O)\n",
        "\n",
        "print(\"Observability matrix (O):\")\n",
        "print(O)\n",
        "\n",
        "print(\"\\nRank of the observability matrix:\")\n",
        "print(rank_O)\n",
        "\n",
        "print(\"\\nNull space of the observability matrix:\")\n",
        "print(null_O)\n"
      ]
    }
  ]
}