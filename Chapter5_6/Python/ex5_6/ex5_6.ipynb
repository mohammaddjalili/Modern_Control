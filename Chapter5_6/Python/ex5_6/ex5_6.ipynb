{
  "nbformat": 4,
  "nbformat_minor": 0,
  "metadata": {
    "colab": {
      "provenance": []
    },
    "kernelspec": {
      "name": "python3",
      "display_name": "Python 3"
    },
    "language_info": {
      "name": "python"
    }
  },
  "cells": [
    {
      "cell_type": "code",
      "source": [
        "import numpy as np\n",
        "from scipy import linalg\n",
        "# Define matrix A\n",
        "A = np.array([[-1, -2],\n",
        "              [ 1, -4]])\n",
        "\n",
        "# Define the identity matrix Q\n",
        "Q = np.eye(2)\n",
        "\n",
        "\n",
        "\n",
        "P = 60*linalg.solve_continuous_lyapunov(A.T, Q)\n",
        "# Compute the determinant of matrix P\n",
        "det_P = np.linalg.det(P)\n",
        "\n",
        "print(\"Matrix P:\")\n",
        "print(P)\n",
        "print(\"Determinant of P:\", det_P)\n"
      ],
      "metadata": {
        "colab": {
          "base_uri": "https://localhost:8080/"
        },
        "id": "yYVA9rjDscm4",
        "outputId": "21c2b008-b06f-4c7d-fd46-fa1e9aba2432"
      },
      "execution_count": 6,
      "outputs": [
        {
          "output_type": "stream",
          "name": "stdout",
          "text": [
            "Matrix P:\n",
            "[[-23.   7.]\n",
            " [  7. -11.]]\n",
            "Determinant of P: 203.99999999999974\n"
          ]
        }
      ]
    }
  ]
}