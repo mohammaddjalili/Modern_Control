{
  "nbformat": 4,
  "nbformat_minor": 0,
  "metadata": {
    "colab": {
      "provenance": []
    },
    "kernelspec": {
      "name": "python3",
      "display_name": "Python 3"
    },
    "language_info": {
      "name": "python"
    }
  },
  "cells": [
    {
      "cell_type": "code",
      "source": [
        "import control as ctrl\n",
        "import numpy as np\n",
        "\n",
        "# System 1 definition\n",
        "A1 = np.array([[-1, 1, 0],\n",
        "               [0, -1, 0],\n",
        "               [0, 0, -2]])\n",
        "B1 = np.array([[0],\n",
        "               [1],\n",
        "               [1]])\n",
        "C1 = np.array([4, -8, 9])\n",
        "D1 = np.array([[0]])\n",
        "\n",
        "sys1 = ctrl.ss(A1, B1, C1, D1)\n",
        "tf_sys1 = ctrl.ss2tf(sys1)\n",
        "\n",
        "print(\"System 1 Transfer Function:\")\n",
        "print(tf_sys1)\n",
        "\n",
        "# System 2 definition\n",
        "A2 = np.array([[-1, 0, 0],\n",
        "               [1, -1, 0],\n",
        "               [0, 0, -2]])\n",
        "B2 = np.array([[4],\n",
        "               [-8],\n",
        "               [9]])\n",
        "C2 = np.array([0, 1, 1])\n",
        "D2 = np.array([[0]])\n",
        "\n",
        "sys2 = ctrl.ss(A2, B2, C2, D2)\n",
        "tf_sys2 = ctrl.ss2tf(sys2)\n",
        "\n",
        "print(\"\\nSystem 2 Transfer Function:\")\n",
        "print(tf_sys2)\n"
      ],
      "metadata": {
        "colab": {
          "base_uri": "https://localhost:8080/"
        },
        "id": "M4abquQsPP8h",
        "outputId": "7133b616-45f8-46d2-e935-439e4e79e52e"
      },
      "execution_count": 5,
      "outputs": [
        {
          "output_type": "stream",
          "name": "stdout",
          "text": [
            "System 1 Transfer Function:\n",
            "<TransferFunction>: sys[3]\n",
            "Inputs (1): ['u[0]']\n",
            "Outputs (1): ['y[0]']\n",
            "\n",
            "\n",
            "    s^2 - 2 s + 1\n",
            "---------------------\n",
            "s^3 + 4 s^2 + 5 s + 2\n",
            "\n",
            "\n",
            "System 2 Transfer Function:\n",
            "<TransferFunction>: sys[5]\n",
            "Inputs (1): ['u[0]']\n",
            "Outputs (1): ['y[0]']\n",
            "\n",
            "\n",
            "    s^2 - 2 s + 1\n",
            "---------------------\n",
            "s^3 + 4 s^2 + 5 s + 2\n",
            "\n"
          ]
        }
      ]
    }
  ]
}