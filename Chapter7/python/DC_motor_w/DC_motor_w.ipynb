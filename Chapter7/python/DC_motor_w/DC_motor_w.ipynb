{
  "nbformat": 4,
  "nbformat_minor": 0,
  "metadata": {
    "colab": {
      "provenance": []
    },
    "kernelspec": {
      "name": "python3",
      "display_name": "Python 3"
    },
    "language_info": {
      "name": "python"
    }
  },
  "cells": [
    {
      "cell_type": "code",
      "execution_count": 1,
      "metadata": {
        "id": "RVjuvAYmx8-C"
      },
      "outputs": [],
      "source": [
        "import numpy as np\n",
        "\n",
        "def DC_motor_w(t, x):\n",
        "    # State variable x=[theta, omega, i, Tl]\n",
        "    A = np.array([[0, 1, 0, 0],\n",
        "                  [0, 0, 4.438, -7.396],\n",
        "                  [0, -12, -24, 0],\n",
        "                  [0, 0, 0, -1]])\n",
        "\n",
        "    B = np.array([[0, 0],\n",
        "                  [0, -7.396],\n",
        "                  [20, 0],\n",
        "                  [0, 0]])\n",
        "\n",
        "    k = np.array([3.0000, 0.8796, 0.1529, -1.8190])\n",
        "    theta_d = 0           # Desired angular position\n",
        "    Tl = 0.01             # Step disturbance\n",
        "\n",
        "    v1 = 2.255 * Tl - k[0] * (x[0] - theta_d) - k[1] * x[1] - k[2] * x[2]\n",
        "    v2 = 2.255 * Tl - np.dot(k, x)\n",
        "    u = np.array([v1, Tl])\n",
        "\n",
        "    xp = np.dot(A, x) + np.dot(B, u)\n",
        "\n",
        "    return xp\n"
      ]
    }
  ]
}