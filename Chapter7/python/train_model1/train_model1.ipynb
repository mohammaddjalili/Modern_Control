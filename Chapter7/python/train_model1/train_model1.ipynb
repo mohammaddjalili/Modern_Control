{
  "nbformat": 4,
  "nbformat_minor": 0,
  "metadata": {
    "colab": {
      "provenance": []
    },
    "kernelspec": {
      "name": "python3",
      "display_name": "Python 3"
    },
    "language_info": {
      "name": "python"
    }
  },
  "cells": [
    {
      "cell_type": "code",
      "execution_count": 1,
      "metadata": {
        "id": "jACcAvNoc40M"
      },
      "outputs": [],
      "source": [
        "import numpy as np\n",
        "from scipy.integrate import solve_ivp\n",
        "\n",
        "def train_model1(t, x):\n",
        "    A = np.array([\n",
        "        [0,    0,   0,   0,   0,    1,      0,      0,   0,   0],\n",
        "        [0,    0,   0,   0,   0,    1,     -1,      0,   0,   0],\n",
        "        [0,    0,   0,   0,   0,    0,      1,     -1,   0,   0],\n",
        "        [0,    0,   0,   0,   0,    0,      0,      1,  -1,   0],\n",
        "        [0,    0,   0,   0,   0,    0,      0,      0,   1,  -1],\n",
        "        [0, -12.5,  0,   0,   0,  -0.75,   0.75,    0,   0,   0],\n",
        "        [0,  62.5, -62.5, 0,  0,   3.75,  -7.5,   3.75,  0,   0],\n",
        "        [0,  0, 62.5, -62.5,  0,    0,  3.75,  -7.5,  3.75,  0],\n",
        "        [0,  0,  0, 62.5, -62.5,    0,     0,  3.75,  -7.5,  3.75],\n",
        "        [0,    0,   0,   0,  62.5,  0,     0,    0,  3.75, -3.75]\n",
        "    ])\n",
        "\n",
        "    b1 = np.array([0, 0, 0, 0, 0.005, 0, 0, 0, 0, 0])  # Force input\n",
        "    b2 = np.array([0, 0, 0, 0, 250, 0, 0, 0, 0, -1250])  # Constant input\n",
        "\n",
        "    u = 750  # Constant input\n",
        "\n",
        "    xp = A.dot(x) + b1 * u + b2\n",
        "    return xp\n",
        "\n",
        "\n"
      ]
    }
  ]
}