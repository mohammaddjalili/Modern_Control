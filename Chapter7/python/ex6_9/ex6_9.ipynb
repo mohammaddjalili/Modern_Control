{
  "nbformat": 4,
  "nbformat_minor": 0,
  "metadata": {
    "colab": {
      "provenance": []
    },
    "kernelspec": {
      "name": "python3",
      "display_name": "Python 3"
    },
    "language_info": {
      "name": "python"
    }
  },
  "cells": [
    {
      "cell_type": "code",
      "source": [
        "import numpy as np\n",
        "import control as ctrl\n",
        "\n",
        "# Define matrices A, B, and f\n",
        "A = np.array([[-2, -1, 2], [-1, -2, 2], [-2, 0, 2]])\n",
        "B = np.array([[0, 0], [0, 1], [1, 0]])\n",
        "f = np.array([[1], [1]])\n",
        "\n",
        "b = np.dot(B, f)\n",
        "# Calculate controllability matrix C\n",
        "C = ctrl.ctrb(A, b)\n",
        "# Desired closed-loop poles (modified to a 1D array)\n",
        "pd = np.array([-2, -2, -2])  # Changed to a 1D array\n",
        "\n",
        "Psi = np.array([[1, 2, -1],[0, 1 ,2],[0, 0, 1]])\n",
        "\n",
        "delta = np.array([4, 13, 10]).reshape((-1, 1))\n",
        "M = np.dot(delta.T, np.linalg.inv(np.dot(C,Psi)))\n",
        "K1= np.dot(f, M)\n",
        "\n",
        "# Calculate state feedback gain K using control.acker\n",
        "K = ctrl.acker(A, b, pd)\n",
        "\n",
        "# Calculate K1\n",
        "K1 = np.dot(f,M)\n",
        "# Calculate K1\n",
        "K2 = np.dot(f,K)\n",
        "\n",
        "# Calculate the closed-loop system matrix Ac and its eigenvalues\n",
        "Ac = A - np.dot(B, K1)\n",
        "eigenvalues, _ = np.linalg.eig(Ac)\n",
        "# Print results\n",
        "print('M: ')\n",
        "print(M)\n",
        "print(\" K:\")\n",
        "print(K)\n",
        "print(\"\\n K1:\")\n",
        "print(K1)\n",
        "print(\"\\n K2:\")\n",
        "print(K2)\n",
        "print(\"\\nEigenvalues of Ac:\")\n",
        "print(eigenvalues)"
      ],
      "metadata": {
        "colab": {
          "base_uri": "https://localhost:8080/"
        },
        "id": "p_nQiijpWLml",
        "outputId": "4a920d31-57c6-4d8b-83b3-67ad824ad990"
      },
      "execution_count": 1,
      "outputs": [
        {
          "output_type": "stream",
          "name": "stdout",
          "text": [
            "M: \n",
            "[[-2.2  0.4  3.6]]\n",
            " K:\n",
            "[[-2.2  0.4  3.6]]\n",
            "\n",
            " K1:\n",
            "[[-2.2  0.4  3.6]\n",
            " [-2.2  0.4  3.6]]\n",
            "\n",
            " K2:\n",
            "[[-2.2  0.4  3.6]\n",
            " [-2.2  0.4  3.6]]\n",
            "\n",
            "Eigenvalues of Ac:\n",
            "[-2.00001117+0.00000000e+00j -1.99999442+9.67093793e-06j\n",
            " -1.99999442-9.67093793e-06j]\n"
          ]
        }
      ]
    }
  ]
}