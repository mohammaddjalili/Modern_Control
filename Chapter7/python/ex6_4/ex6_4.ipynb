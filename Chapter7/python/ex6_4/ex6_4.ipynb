{
  "nbformat": 4,
  "nbformat_minor": 0,
  "metadata": {
    "colab": {
      "provenance": []
    },
    "kernelspec": {
      "name": "python3",
      "display_name": "Python 3"
    },
    "language_info": {
      "name": "python"
    }
  },
  "cells": [
    {
      "cell_type": "code",
      "source": [
        "import numpy as np\n",
        "import control\n",
        "\n",
        "# Define the matrices\n",
        "A = np.array([[0, 1, 0, 0],\n",
        "              [0, 0, -9.8, 0],\n",
        "              [0, 0, 0, 1],\n",
        "              [0, 0, 19.6, 0]])\n",
        "\n",
        "b = np.array([[0],\n",
        "              [1],\n",
        "              [0],\n",
        "              [-1]])\n",
        "\n",
        "# Controllability matrix\n",
        "\n",
        "C = control.ctrb(A,b)\n",
        "a = np.array([0, -19.6, 0, 0])\n",
        "\n",
        "alpha = np.array([12.86, 63.065, 149.38, 157.0])\n",
        "\n",
        "Psi = np.array([[1, a[0], a[1], a[2]],\n",
        "                [0, 1, a[0], a[1]],\n",
        "                [0, 0, 1, a[0]],\n",
        "                [0, 0, 0, 1]])\n",
        "\n",
        "# Compute k\n",
        "k = np.dot(alpha - a, np.linalg.inv(np.dot(C, Psi)))\n",
        "\n",
        "print(\"k:\", k)\n"
      ],
      "metadata": {
        "colab": {
          "base_uri": "https://localhost:8080/"
        },
        "id": "af4HmmObVeWH",
        "outputId": "4498bd22-2713-44c9-a7d5-1805aeff1234"
      },
      "execution_count": 34,
      "outputs": [
        {
          "output_type": "stream",
          "name": "stdout",
          "text": [
            "k: [-16.02040816 -15.24285714 -98.68540816 -28.10285714]\n"
          ]
        }
      ]
    }
  ]
}