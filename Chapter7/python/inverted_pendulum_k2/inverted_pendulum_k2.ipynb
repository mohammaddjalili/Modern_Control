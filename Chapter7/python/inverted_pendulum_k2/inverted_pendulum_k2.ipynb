{
  "nbformat": 4,
  "nbformat_minor": 0,
  "metadata": {
    "colab": {
      "provenance": []
    },
    "kernelspec": {
      "name": "python3",
      "display_name": "Python 3"
    },
    "language_info": {
      "name": "python"
    }
  },
  "cells": [
    {
      "cell_type": "code",
      "execution_count": 1,
      "metadata": {
        "id": "Z5KHXGU9u-fr"
      },
      "outputs": [],
      "source": [
        "import numpy as np\n",
        "\n",
        "def inverted_pendulum_k2(t, x):\n",
        "    # Constants\n",
        "    g = 9.8\n",
        "    l = 1\n",
        "    m = 1\n",
        "    M = 1\n",
        "\n",
        "    # State feedback gains\n",
        "    k = np.array([-40.0000, -37.3693, -190.6669, -54.7283])\n",
        "\n",
        "    # Intermediate calculations\n",
        "    d1 = M + m * (1 - np.cos(x[2]) ** 2)\n",
        "    d2 = l * d1\n",
        "\n",
        "    # State feedback\n",
        "    F = -np.dot(k, x)\n",
        "\n",
        "    # State derivatives\n",
        "    xp = np.zeros(4)\n",
        "    xp[0] = x[1]\n",
        "    xp[1] = (F + m * l * x[3] ** 2 * np.sin(x[2]) - m * g * np.sin(x[2]) * np.cos(x[2])) / d1\n",
        "    xp[2] = x[3]\n",
        "    xp[3] = (-F * np.cos(x[2]) - m * l * x[3] ** 2 * np.sin(x[2]) * np.cos(x[2]) + (M + m) * g * np.sin(x[2])) / d2\n",
        "\n",
        "    return xp\n"
      ]
    }
  ]
}