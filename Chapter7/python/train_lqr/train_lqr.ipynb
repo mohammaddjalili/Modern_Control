{
  "nbformat": 4,
  "nbformat_minor": 0,
  "metadata": {
    "colab": {
      "provenance": []
    },
    "kernelspec": {
      "name": "python3",
      "display_name": "Python 3"
    },
    "language_info": {
      "name": "python"
    }
  },
  "cells": [
    {
      "cell_type": "code",
      "execution_count": 3,
      "metadata": {
        "colab": {
          "base_uri": "https://localhost:8080/"
        },
        "id": "5v71kf1ZgdJH",
        "outputId": "ad9ccf24-ff63-4be6-e8ef-8d24029da83c"
      },
      "outputs": [
        {
          "output_type": "stream",
          "name": "stdout",
          "text": [
            "LQR gain K:\n",
            "[[ 54.5333233   16.28476872  -1.30267828  -4.3607473  191.74140547\n",
            "  -40.48409407 -34.20666832 -29.70695907 -27.34368401  52.08864446]]\n",
            "\n",
            "LQR gain K1 with modified R:\n",
            "[[ 0.45588579  0.3330732   0.2170438   0.10686101 11.53874117 -0.26220247\n",
            "  -0.33713495 -0.38652147 -0.41103122  5.37309291]]\n"
          ]
        }
      ],
      "source": [
        "import numpy as np\n",
        "from scipy.linalg import solve_continuous_are\n",
        "import control\n",
        "\n",
        "# State variable\n",
        "A = np.array([\n",
        "    [0, 0, 0, 0, 1, -1, 0, 0, 0, 0],\n",
        "    [0, 0, 0, 0, 0, 1, -1, 0, 0, 0],\n",
        "    [0, 0, 0, 0, 0, 0, 1, -1, 0, 0],\n",
        "    [0, 0, 0, 0, 0, 0, 0, 1, -1, 0],\n",
        "    [-12.5, 0, 0, 0, -0.75, 0.75, 0, 0, 0, 0],\n",
        "    [62.5, -62.5, 0, 0, 3.75, -7.5, 3.75, 0, 0, 0],\n",
        "    [0, 62.5, -62.5, 0, 0, 3.75, -7.5, 3.75, 0, 0],\n",
        "    [0, 0, 62.5, -62.5, 0, 0, 3.75, -7.5, 3.75, 0],\n",
        "    [0, 0, 0, 62.5, 0, 0, 0, 3.75, -3.75, 0],\n",
        "    [0, 0, 0, 0, 0, 0, 0, 0, 0, -1/40]\n",
        "])\n",
        "\n",
        "B = np.array([0, 0, 0, 0, 0.005, 0, 0, 0, 0, 0])[:, np.newaxis]  # Force input\n",
        "\n",
        "Q = np.diag([3.34**2, 3.34**2, 3.34**2, 3.34**2, 3**2+0.5**2, 2*3**2, 2*3**2, 2*3**2, 3**2, 0.5**2])\n",
        "Q[5, 4] = Q[4, 5] = -9\n",
        "Q[6, 5] = Q[5, 6] = -9\n",
        "Q[7, 6] = Q[6, 7] = -9\n",
        "Q[8, 7] = Q[7, 8] = -9\n",
        "Q[9, 4] = Q[4, 9] = 0.5**2\n",
        "\n",
        "R = 1 / 120**2\n",
        "\n",
        "# Calculate LQR gain\n",
        "K, S, E = control.lqr(A, B, Q, R)\n",
        "\n",
        "R1 = 35 * R\n",
        "\n",
        "# Calculate LQR gain with modified R\n",
        "K1, S1, E1 = control.lqr(A, B, Q, R1)\n",
        "\n",
        "print(\"LQR gain K:\")\n",
        "print(K)\n",
        "\n",
        "print(\"\\nLQR gain K1 with modified R:\")\n",
        "print(K1)\n"
      ]
    }
  ]
}