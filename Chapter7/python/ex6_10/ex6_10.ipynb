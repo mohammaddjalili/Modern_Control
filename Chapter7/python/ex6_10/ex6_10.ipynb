{
  "nbformat": 4,
  "nbformat_minor": 0,
  "metadata": {
    "colab": {
      "provenance": []
    },
    "kernelspec": {
      "name": "python3",
      "display_name": "Python 3"
    },
    "language_info": {
      "name": "python"
    }
  },
  "cells": [
    {
      "cell_type": "code",
      "execution_count": 1,
      "metadata": {
        "id": "_MIe3jktM744",
        "outputId": "1c2651b2-f302-491d-d208-87c19c422ded",
        "colab": {
          "base_uri": "https://localhost:8080/"
        }
      },
      "outputs": [
        {
          "output_type": "stream",
          "name": "stdout",
          "text": [
            "Eigenvalues:\n",
            " [-1.  1. -2.]\n",
            "Eigenvectors:\n",
            " [[-0.80178373  0.40824829 -0.66666667]\n",
            " [-0.26726124  0.40824829 -0.66666667]\n",
            " [-0.53452248  0.81649658 -0.33333333]]\n",
            "Inverse of eigenvectors matrix:\n",
            " [[-1.87082869e+00  1.87082869e+00 -8.30814836e-16]\n",
            " [-1.22474487e+00  4.08248290e-01  1.63299316e+00]\n",
            " [-0.00000000e+00 -2.00000000e+00  1.00000000e+00]]\n",
            "Projection:\n",
            " [[1.87082869]\n",
            " [2.04124145]]\n"
          ]
        }
      ],
      "source": [
        "import numpy as np\n",
        "\n",
        "# System matrices\n",
        "A = np.array([[-2, -1, 2], [-1, -2, 2], [-2, 0, 2]])\n",
        "B = np.array([[0, 0], [0, 1], [1, 0]])\n",
        "\n",
        "# Vector f and b\n",
        "f = np.array([[1], [1]])\n",
        "b = B @ f\n",
        "\n",
        "# Eigenvalues and eigenvectors\n",
        "eigenvalues, eigenvectors = np.linalg.eig(A)\n",
        "v = np.linalg.inv(eigenvectors)\n",
        "\n",
        "# Projection\n",
        "p = v[:2, :] @ b\n",
        "\n",
        "# Display results\n",
        "print(\"Eigenvalues:\\n\", eigenvalues)\n",
        "print(\"Eigenvectors:\\n\", eigenvectors)\n",
        "print(\"Inverse of eigenvectors matrix:\\n\", v)\n",
        "print(\"Projection:\\n\", p)\n"
      ]
    }
  ]
}