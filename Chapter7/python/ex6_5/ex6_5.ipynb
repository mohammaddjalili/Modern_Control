{
  "nbformat": 4,
  "nbformat_minor": 0,
  "metadata": {
    "colab": {
      "provenance": []
    },
    "kernelspec": {
      "name": "python3",
      "display_name": "Python 3"
    },
    "language_info": {
      "name": "python"
    }
  },
  "cells": [
    {
      "cell_type": "code",
      "execution_count": 2,
      "metadata": {
        "colab": {
          "base_uri": "https://localhost:8080/"
        },
        "id": "l2nWrSyvNeVA",
        "outputId": "5d3d0038-ca8d-4cdd-815f-fffd6b4df3a0"
      },
      "outputs": [
        {
          "output_type": "stream",
          "name": "stdout",
          "text": [
            "Gain vector k:\n",
            " [-16.02040816 -15.24285714 -98.68540816 -28.10285714]\n"
          ]
        }
      ],
      "source": [
        "import numpy as np\n",
        "from scipy.linalg import inv\n",
        "\n",
        "# Define matrices\n",
        "A = np.array([[0, 1, 0, 0], [0, 0, -9.8, 0], [0, 0, 0, 1], [0, 0, 19.6, 0]])\n",
        "b = np.array([[0], [1], [0], [-1]])\n",
        "\n",
        "# Controllability matrix\n",
        "def ctrb(A, B):\n",
        "    n = A.shape[0]\n",
        "    C = B\n",
        "    for i in range(1, n):\n",
        "        C = np.hstack((C, np.linalg.matrix_power(A, i) @ B))\n",
        "    return C\n",
        "\n",
        "C = ctrb(A, b)\n",
        "\n",
        "# Define vectors\n",
        "a = np.array([0, -19.6, 0, 0])\n",
        "alpha = np.array([12.86, 63.065, 149.38, 157.0])\n",
        "\n",
        "# Psi_1 matrix\n",
        "Psi_1 = np.array([\n",
        "    [1, -a[0], a[0]**2 - a[1], -a[0]**3 + 2*a[0]*a[1] - a[2]],\n",
        "    [0, 1, -a[0], a[0]**2 - a[1]],\n",
        "    [0, 0, 1, -a[0]],\n",
        "    [0, 0, 0, 1]\n",
        "])\n",
        "\n",
        "# Calculate k\n",
        "k = (alpha - a) @ Psi_1 @ inv(C)\n",
        "\n",
        "# Display result\n",
        "print(\"Gain vector k:\\n\", k)\n"
      ]
    }
  ]
}