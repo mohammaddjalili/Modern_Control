{
  "nbformat": 4,
  "nbformat_minor": 0,
  "metadata": {
    "colab": {
      "provenance": []
    },
    "kernelspec": {
      "name": "python3",
      "display_name": "Python 3"
    },
    "language_info": {
      "name": "python"
    }
  },
  "cells": [
    {
      "cell_type": "code",
      "execution_count": 9,
      "metadata": {
        "colab": {
          "base_uri": "https://localhost:8080/"
        },
        "id": "w9djuHcUQ7Ml",
        "outputId": "29479d61-5e4a-48f1-b65b-6fa1d4d42774"
      },
      "outputs": [
        {
          "output_type": "stream",
          "name": "stdout",
          "text": [
            "Gain matrix k:\n",
            "4.867057232987826 1.2251464623704367 0.30000000000000004\n"
          ]
        }
      ],
      "source": [
        "import numpy as np\n",
        "from scipy.signal import place_poles\n",
        "\n",
        "\n",
        "# Define matrices and vectors\n",
        "A = np.array([[0, 1, 0], [0, 0, 4.438], [0, -12, -24]])\n",
        "b = np.array([[0], [0], [20]])\n",
        "pd = np.array([-24, -3-3j, -3+3j])\n",
        "\n",
        "# Place poles\n",
        "result = place_poles(A, b, pd)\n",
        "k = result.gain_matrix\n",
        "\n",
        "print(\"Gain matrix k:\")\n",
        "print(k[0][0], k[0][1], k[0][2])\n"
      ]
    }
  ]
}