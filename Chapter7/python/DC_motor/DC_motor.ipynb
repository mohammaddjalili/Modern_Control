{
  "nbformat": 4,
  "nbformat_minor": 0,
  "metadata": {
    "colab": {
      "provenance": []
    },
    "kernelspec": {
      "name": "python3",
      "display_name": "Python 3"
    },
    "language_info": {
      "name": "python"
    }
  },
  "cells": [
    {
      "cell_type": "code",
      "execution_count": 1,
      "metadata": {
        "id": "O4Kgb2R6xEoe"
      },
      "outputs": [],
      "source": [
        "import numpy as np\n",
        "\n",
        "def DC_motor(t, x):\n",
        "    # State variable x=[theta, omega, i]\n",
        "    A = np.array([[0, 1, 0],\n",
        "                  [0, 0, 4.438],\n",
        "                  [0, -12, -24]])\n",
        "\n",
        "    B = np.array([[0, 0],\n",
        "                  [0, -7.396],\n",
        "                  [20, 0]])\n",
        "\n",
        "    theta_d = 0           # Desired angular position\n",
        "    Tl = 0.01             # Step disturbance\n",
        "\n",
        "    v = 2.255 * Tl - 3.0 * (x[0] - theta_d) - 0.879 * x[1] - 0.1529 * x[2]\n",
        "    u = np.array([v, Tl])\n",
        "\n",
        "    xp = np.dot(A, x) + np.dot(B, u)\n",
        "\n",
        "    return xp\n"
      ]
    }
  ]
}