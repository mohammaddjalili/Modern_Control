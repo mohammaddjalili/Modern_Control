{
  "nbformat": 4,
  "nbformat_minor": 0,
  "metadata": {
    "colab": {
      "provenance": []
    },
    "kernelspec": {
      "name": "python3",
      "display_name": "Python 3"
    },
    "language_info": {
      "name": "python"
    }
  },
  "cells": [
    {
      "cell_type": "code",
      "source": [
        "import numpy as np\n",
        "import control\n",
        "\n",
        "# Define the system matrices\n",
        "A = np.array([[0, 1, 0, 0],\n",
        "              [0, 0, -9.8, 0],\n",
        "              [0, 0, 0, 1],\n",
        "              [0, 0, 19.6, 0]])\n",
        "\n",
        "b = np.array([[0], [1], [0], [-1]])\n",
        "\n",
        "# Define the weighting matrices Q and R\n",
        "Q = np.diag([4, 0, 8.16, 0])\n",
        "R = 1 / 400\n",
        "\n",
        "# Calculate the LQR gain matrix\n",
        "k, _, _ = control.lqr(A, b, Q, R)\n",
        "\n",
        "print(\"LQR gain matrix k:\")\n",
        "print(k)\n"
      ],
      "metadata": {
        "colab": {
          "base_uri": "https://localhost:8080/"
        },
        "id": "SgFugqxV4qrE",
        "outputId": "b910b227-e6ae-4b42-b2c1-7949457c57e9"
      },
      "execution_count": 1,
      "outputs": [
        {
          "output_type": "stream",
          "name": "stdout",
          "text": [
            "LQR gain matrix k:\n",
            "[[ -40.          -37.36929912 -190.66690328  -54.72826817]]\n"
          ]
        }
      ]
    }
  ]
}