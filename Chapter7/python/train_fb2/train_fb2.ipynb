{
  "nbformat": 4,
  "nbformat_minor": 0,
  "metadata": {
    "colab": {
      "provenance": []
    },
    "kernelspec": {
      "name": "python3",
      "display_name": "Python 3"
    },
    "language_info": {
      "name": "python"
    }
  },
  "cells": [
    {
      "cell_type": "code",
      "execution_count": 1,
      "metadata": {
        "id": "ZNaicmn_jkXv"
      },
      "outputs": [],
      "source": [
        "import numpy as np\n",
        "from scipy.integrate import solve_ivp\n",
        "import matplotlib.pyplot as plt\n",
        "\n",
        "def train_fb2(t, x):\n",
        "    A = np.array([\n",
        "        [0, 0, 0, 0, 0, 1, 0, 0, 0, 0],\n",
        "        [0, 0, 0, 0, 0, 1, -1, 0, 0, 0],\n",
        "        [0, 0, 0, 0, 0, 0, 1, -1, 0, 0],\n",
        "        [0, 0, 0, 0, 0, 0, 0, 1, -1, 0],\n",
        "        [0, 0, 0, 0, 0, 0, 0, 0, 1, -1],\n",
        "        [0, -12.5, 0, 0, 0, -0.75, 0.75, 0, 0, 0],\n",
        "        [0, 62.5, -62.5, 0, 0, 3.75, -7.5, 3.75, 0, 0],\n",
        "        [0, 0, 62.5, -62.5, 0, 0, 3.75, -7.5, 3.75, 0],\n",
        "        [0, 0, 0, 62.5, -62.5, 0, 0, 3.75, -7.5, 3.75],\n",
        "        [0, 0, 0, 0, 62.5, 0, 0, 0, 3.75, -3.75]\n",
        "    ])\n",
        "\n",
        "    b1 = np.array([0, 0, 0, 0, 0, 0.005, 0, 0, 0, 0])  # Force input\n",
        "    b2 = np.array([0, 0, 0, 0, 0, 250, 0, 0, 0, -1250])  # Constant input\n",
        "\n",
        "    vd = 25 * (1 - np.exp(-t / 40))\n",
        "    k = np.array([54.5333, 16.2848, -1.3027, -4.3607, 191.7414, -40.4841, -34.2067, -29.7070, -27.3437, 52.0886])\n",
        "\n",
        "    dx = np.array([x[1] - 20, x[2] - 20, x[3] - 20, x[4] - 20])\n",
        "    dv = np.array([x[5] - vd, x[6] - vd, x[7] - vd, x[8] - vd, x[9] - vd])\n",
        "    z = x[5] - vd\n",
        "    X = np.concatenate((dx, dv, [z]))\n",
        "\n",
        "    u = k.dot(X)\n",
        "    xp = A.dot(x) + b1 * u + b2\n",
        "    return xp\n",
        "\n"
      ]
    }
  ]
}