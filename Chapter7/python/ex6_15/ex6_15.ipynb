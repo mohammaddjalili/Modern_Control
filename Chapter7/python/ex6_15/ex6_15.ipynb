{
  "nbformat": 4,
  "nbformat_minor": 0,
  "metadata": {
    "colab": {
      "provenance": []
    },
    "kernelspec": {
      "name": "python3",
      "display_name": "Python 3"
    },
    "language_info": {
      "name": "python"
    }
  },
  "cells": [
    {
      "cell_type": "code",
      "source": [
        "import numpy as np\n",
        "import control\n",
        "\n",
        "# Define the system matrices\n",
        "A = np.array([[0, 1, 0, 0],\n",
        "              [0, 0, 4.438, -7.396],\n",
        "              [0, -12, -24, 0],\n",
        "              [0, 0, 0, -1]])\n",
        "\n",
        "b = np.array([[0], [0], [20], [0]])\n",
        "\n",
        "# Define the weighting matrices\n",
        "R = 1\n",
        "Q1 = np.diag([9, 0, 0, 0])\n",
        "\n",
        "# Calculate the LQR gain matrix\n",
        "k, _, _ = control.lqr(A, b, Q1, R)\n",
        "\n",
        "print(\"LQR gain matrix k:\")\n",
        "print(k)\n"
      ],
      "metadata": {
        "colab": {
          "base_uri": "https://localhost:8080/"
        },
        "id": "8aSOCYZu5N3Z",
        "outputId": "48e7ff0e-eec1-4e20-9d5c-a1cb726bc4dd"
      },
      "execution_count": 2,
      "outputs": [
        {
          "output_type": "stream",
          "name": "stdout",
          "text": [
            "LQR gain matrix k:\n",
            "[[ 3.          0.87955069  0.15290229 -1.8189703 ]]\n"
          ]
        }
      ]
    }
  ]
}