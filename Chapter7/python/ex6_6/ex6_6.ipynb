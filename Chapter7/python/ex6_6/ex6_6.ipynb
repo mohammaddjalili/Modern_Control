{
  "nbformat": 4,
  "nbformat_minor": 0,
  "metadata": {
    "colab": {
      "provenance": []
    },
    "kernelspec": {
      "name": "python3",
      "display_name": "Python 3"
    },
    "language_info": {
      "name": "python"
    }
  },
  "cells": [
    {
      "cell_type": "code",
      "source": [
        "import numpy as np\n",
        "from scipy.linalg import eig\n",
        "from control import acker\n",
        "\n",
        "# Define matrices\n",
        "A = np.array([[0, 1, 0, 0], [0, 0, -9.8, 0], [0, 0, 0, 1], [0, 0, 19.6, 0]])\n",
        "b = np.array([[0], [1], [0], [-1]])\n",
        "\n",
        "# Compute eigenvalues of A\n",
        "e = eig(A)[0]\n",
        "\n",
        "# Desired pole locations\n",
        "pd = [-4.43, -4.43, -2-2j, -2+2j]\n",
        "\n",
        "# Pole placement using acker\n",
        "k = acker(A, b, pd)\n",
        "\n",
        "# Display results\n",
        "print(\"Eigenvalues of A:\\n\", e)\n",
        "print(\"Gain vector k:\\n\", k)\n"
      ],
      "metadata": {
        "id": "XmBWhO0NOeqi",
        "colab": {
          "base_uri": "https://localhost:8080/"
        },
        "outputId": "c17707ff-2981-4886-dae4-893bdb44e9fe"
      },
      "execution_count": 2,
      "outputs": [
        {
          "output_type": "stream",
          "name": "stdout",
          "text": [
            "Eigenvalues of A:\n",
            " [ 0.        +0.j  0.        +0.j  4.42718872+0.j -4.42718872+0.j]\n",
            "Gain vector k:\n",
            " [[-16.02032653 -15.24281633 -98.68522653 -28.10281633]]\n"
          ]
        }
      ]
    }
  ]
}