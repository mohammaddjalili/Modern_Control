{
  "nbformat": 4,
  "nbformat_minor": 0,
  "metadata": {
    "colab": {
      "provenance": []
    },
    "kernelspec": {
      "name": "python3",
      "display_name": "Python 3"
    },
    "language_info": {
      "name": "python"
    }
  },
  "cells": [
    {
      "cell_type": "code",
      "execution_count": 1,
      "metadata": {
        "id": "AUoAcSGtiV5h"
      },
      "outputs": [],
      "source": [
        "import numpy as np\n",
        "from scipy.integrate import solve_ivp\n",
        "\n",
        "def train_fb(t, x):\n",
        "    A = np.array([\n",
        "        [0, 0, 0, 0, 0, 1, 0, 0, 0, 0],\n",
        "        [0, 0, 0, 0, 0, 1, -1, 0, 0, 0],\n",
        "        [0, 0, 0, 0, 0, 0, 1, -1, 0, 0],\n",
        "        [0, 0, 0, 0, 0, 0, 0, 1, -1, 0],\n",
        "        [0, 0, 0, 0, 0, 0, 0, 0, 1, -1],\n",
        "        [0, -12.5, 0, 0, 0, -0.75, 0.75, 0, 0, 0],\n",
        "        [0, 62.5, -62.5, 0, 0, 3.75, -7.5, 3.75, 0, 0],\n",
        "        [0, 0, 62.5, -62.5, 0, 0, 3.75, -7.5, 3.75, 0],\n",
        "        [0, 0, 0, 62.5, -62.5, 0, 0, 3.75, -7.5, 3.75],\n",
        "        [0, 0, 0, 0, 62.5, 0, 0, 0, 3.75, -3.75]\n",
        "    ])\n",
        "\n",
        "    b1 = np.array([0, 0, 0, 0, 0.005, 0, 0, 0, 0, 0])  # Force input\n",
        "    b2 = np.array([0, 0, 0, 0, 0, 250, 0, 0, 0, -1250])  # Constant input\n",
        "\n",
        "    vd = 25 * (1 - np.exp(-t / 40))\n",
        "    # Second Design R=35/120^2\n",
        "    k = np.array([0.4559, 0.3331, 0.2170, 0.1069, 11.5387, -0.2622,\n",
        "                  -0.3371, -0.3865, -0.4110, 5.3731])\n",
        "\n",
        "    dx = np.array([x[1] - 20, x[2] - 20, x[3] - 20, x[4] - 20])\n",
        "    dv = np.array([x[5] - vd, x[6] - vd, x[7] - vd, x[8] - vd, x[9] - vd])\n",
        "    z = x[5] - vd\n",
        "    X = np.concatenate((dx, dv, [z]))\n",
        "\n",
        "    u = -k.dot(X)\n",
        "    xp = A.dot(x) + b1 * u + b2\n",
        "    return xp\n",
        "\n"
      ]
    }
  ]
}