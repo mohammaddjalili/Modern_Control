{
  "nbformat": 4,
  "nbformat_minor": 0,
  "metadata": {
    "colab": {
      "provenance": []
    },
    "kernelspec": {
      "name": "python3",
      "display_name": "Python 3"
    },
    "language_info": {
      "name": "python"
    }
  },
  "cells": [
    {
      "cell_type": "code",
      "source": [
        "import numpy as np\n",
        "from sympy import Matrix\n",
        "\n",
        "# Inverted Pendulum example\n",
        "A = np.array([[0, 1, 0, 0],\n",
        "              [0, 0, -9.8, 0],\n",
        "              [0, 0, 0, 1],\n",
        "              [0, 0, 19.6, 0]])\n",
        "\n",
        "B = np.array([[0],\n",
        "              [1],\n",
        "              [0],\n",
        "              [1]])\n",
        "\n",
        "C = np.array([[1, 0, 0, 0],\n",
        "              [0, 0, 1, 0]])\n",
        "m = Matrix(A)\n",
        "T, J = m.jordan_form()\n",
        "\n",
        "# Convert SymPy Matrix P to NumPy array\n",
        "T_np = np.array(T).astype(float)\n",
        "J_np = np.array(J).astype(float)\n",
        "# Transform B and C matrices\n",
        "Bn = np.linalg.inv(T_np) @ B\n",
        "Cn = C @ T_np\n",
        "\n",
        "\n",
        "print(\"Transformation matrix T:\")\n",
        "print(P_np)\n",
        "print(\"\\nJordan form J:\")\n",
        "print(J_np)\n",
        "print(\"\\nTransformed B matrix (Bn):\")\n",
        "print(Bn)\n",
        "\n",
        "print(\"\\nTransformed C matrix (Cn):\")\n",
        "print(Cn)"
      ],
      "metadata": {
        "colab": {
          "base_uri": "https://localhost:8080/"
        },
        "id": "3Bl14H_nEvm1",
        "outputId": "40cd3790-3a3e-4ebc-b47d-9aeab66eb5c9"
      },
      "execution_count": 2,
      "outputs": [
        {
          "output_type": "stream",
          "name": "stdout",
          "text": [
            "Transformation matrix T:\n",
            "[[ 1.          0.          0.11293849 -0.11293849]\n",
            " [ 0.          1.         -0.5        -0.5       ]\n",
            " [ 0.          0.         -0.22587698  0.22587698]\n",
            " [ 0.          0.          1.          1.        ]]\n",
            "\n",
            "Jordan form J:\n",
            "[[ 0.          1.          0.          0.        ]\n",
            " [ 0.          0.          0.          0.        ]\n",
            " [ 0.          0.         -4.42718872  0.        ]\n",
            " [ 0.          0.          0.          4.42718872]]\n",
            "\n",
            "Transformed B matrix (Bn):\n",
            "[[0. ]\n",
            " [1.5]\n",
            " [0.5]\n",
            " [0.5]]\n",
            "\n",
            "Transformed C matrix (Cn):\n",
            "[[ 1.          0.          0.11293849 -0.11293849]\n",
            " [ 0.          0.         -0.22587698  0.22587698]]\n"
          ]
        }
      ]
    },
    {
      "cell_type": "code",
      "source": [
        "#Example 3-13\n",
        "A = np.array([[0, 1, 0, 3],\n",
        "              [0, -1, 1, 10],\n",
        "              [0, 0, 0, 1],\n",
        "              [0, 0, -1, -2]])\n",
        "m = Matrix(A)\n",
        "T, J = m.jordan_form()\n",
        "\n",
        "# Convert SymPy Matrix T to NumPy array\n",
        "T_np = np.array(T).astype(float)\n",
        "J_np = np.array(J).astype(float)\n",
        "print(\"Transformation matrix T:\")\n",
        "print(T_np)\n",
        "print(\"\\nJordan form J:\")\n",
        "print(J_np)"
      ],
      "metadata": {
        "colab": {
          "base_uri": "https://localhost:8080/"
        },
        "id": "sSa67ZIqFKpC",
        "outputId": "3cd75594-1cb3-4934-8205-93b1f4edc07a"
      },
      "execution_count": 3,
      "outputs": [
        {
          "output_type": "stream",
          "name": "stdout",
          "text": [
            "Transformation matrix T:\n",
            "[[ 9. 11. 11.  1.]\n",
            " [-9.  1.  0.  0.]\n",
            " [ 0.  1.  1.  0.]\n",
            " [ 0. -1.  0.  0.]]\n",
            "\n",
            "Jordan form J:\n",
            "[[-1.  1.  0.  0.]\n",
            " [ 0. -1.  1.  0.]\n",
            " [ 0.  0. -1.  0.]\n",
            " [ 0.  0.  0.  0.]]\n"
          ]
        }
      ]
    }
  ]
}