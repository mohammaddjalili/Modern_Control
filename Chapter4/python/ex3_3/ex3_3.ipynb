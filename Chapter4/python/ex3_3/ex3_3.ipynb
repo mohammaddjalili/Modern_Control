{
  "nbformat": 4,
  "nbformat_minor": 0,
  "metadata": {
    "colab": {
      "provenance": []
    },
    "kernelspec": {
      "name": "python3",
      "display_name": "Python 3"
    },
    "language_info": {
      "name": "python"
    }
  },
  "cells": [
    {
      "cell_type": "code",
      "source": [
        "import numpy\n",
        "from sympy import symbols,exp, integrate, Matrix\n",
        "from scipy.linalg import expm\n",
        "\n",
        "A = Matrix([[0,6],[-1,-5]])\n",
        "# Symbolically define time variable t\n",
        "t = symbols('t')\n",
        "\n",
        "# Calculate the matrix exponential phi = expm(A*t)\n",
        "phi = exp(A * t)\n",
        "# Print the symbolic expression\n",
        "phi = np.array(phi)\n",
        "print(phi)\n",
        "\n"
      ],
      "metadata": {
        "colab": {
          "base_uri": "https://localhost:8080/"
        },
        "id": "306ZILH_q6IX",
        "outputId": "e3f0a244-9f1c-4f0a-8308-cf1faa34cb08"
      },
      "execution_count": 25,
      "outputs": [
        {
          "output_type": "stream",
          "name": "stdout",
          "text": [
            "[[3*exp(-2*t) - 2*exp(-3*t) 6*exp(-2*t) - 6*exp(-3*t)]\n",
            " [-exp(-2*t) + exp(-3*t) -2*exp(-2*t) + 3*exp(-3*t)]]\n"
          ]
        }
      ]
    },
    {
      "cell_type": "code",
      "source": [],
      "metadata": {
        "id": "d_bXuuvZtj8l"
      },
      "execution_count": null,
      "outputs": []
    }
  ]
}