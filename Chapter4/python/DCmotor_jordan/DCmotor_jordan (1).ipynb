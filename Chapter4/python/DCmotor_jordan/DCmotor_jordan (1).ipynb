{
  "nbformat": 4,
  "nbformat_minor": 0,
  "metadata": {
    "colab": {
      "provenance": []
    },
    "kernelspec": {
      "name": "python3",
      "display_name": "Python 3"
    },
    "language_info": {
      "name": "python"
    }
  },
  "cells": [
    {
      "cell_type": "code",
      "source": [
        "import numpy as np\n",
        "from scipy.signal import StateSpace\n",
        "from scipy.linalg import eig\n",
        "\n",
        "# Define the system matrices\n",
        "A = np.array([[0, 1, 0],\n",
        "              [0, 0, 4.438],\n",
        "              [0, -12, -24]])\n",
        "b1 = np.array([[0],\n",
        "               [0],\n",
        "               [20]])\n",
        "b2 = np.array([[0],\n",
        "               [-7.396],\n",
        "               [0]])\n",
        "B = np.hstack((b1, b2))\n",
        "C = np.array([[1, 0, 0],\n",
        "              [0, 1, 0]])\n",
        "D = np.array([[0], [0]])\n",
        "\n",
        "# Create a state-space model\n",
        "DC_motor = StateSpace(A, b1, C, D)  # Note only first input is used\n",
        "\n",
        "# Compute the eigenvalues and eigenvectors of the matrix A\n",
        "eigenvalues, eigenvectors = np.linalg.eig(A)\n",
        "\n",
        "# Compute the eigenvalues and eigenvectors of the transpose of matrix A\n",
        "eigenvalues_transpose, eigenvectors_transpose = np.linalg.eig(A.T)\n",
        "\n",
        "# Create diagonal matrices of eigenvalues\n",
        "e_matrix = np.diag(eigenvalues)\n",
        "ee_matrix = np.diag(eigenvalues_transpose)\n",
        "\n",
        "# Print the results\n",
        "print(\"v:\\n\", eigenvectors)\n",
        "print(\"ee:\\n\", e_matrix)\n",
        "print(\"v:\\n\", eigenvectors_transpose)\n",
        "print(\"ee:\\n\", ee_matrix)\n"
      ],
      "metadata": {
        "colab": {
          "base_uri": "https://localhost:8080/"
        },
        "id": "oiGXq_KpoTmp",
        "outputId": "598d18ba-25fd-474a-ff2a-475ac61791e3"
      },
      "execution_count": 1,
      "outputs": [
        {
          "output_type": "stream",
          "name": "stdout",
          "text": [
            "v:\n",
            " [[ 1.         -0.33290784  0.00938002]\n",
            " [ 0.          0.82362581 -0.20191394]\n",
            " [ 0.         -0.45914364  0.97935835]]\n",
            "ee:\n",
            " [[  0.           0.           0.        ]\n",
            " [  0.          -2.47403548   0.        ]\n",
            " [  0.           0.         -21.52596452]]\n",
            "v:\n",
            " [[ 0.          0.          0.90907852]\n",
            " [-0.48691774 -0.97940144  0.40967937]\n",
            " [-0.87344783 -0.20192283  0.07575654]]\n",
            "ee:\n",
            " [[-21.52596452   0.           0.        ]\n",
            " [  0.          -2.47403548   0.        ]\n",
            " [  0.           0.           0.        ]]\n"
          ]
        }
      ]
    }
  ]
}