{
  "nbformat": 4,
  "nbformat_minor": 0,
  "metadata": {
    "colab": {
      "provenance": []
    },
    "kernelspec": {
      "name": "python3",
      "display_name": "Python 3"
    },
    "language_info": {
      "name": "python"
    }
  },
  "cells": [
    {
      "cell_type": "code",
      "source": [
        "import numpy as np\n",
        "from sympy import symbols, exp, integrate, Matrix\n",
        "\n",
        "# Define matrices A and B\n",
        "A = Matrix([[1, 0], [1, 1]])\n",
        "B = Matrix([[1], [1]])\n",
        "\n",
        "# Assign values to variables u and x0\n",
        "u = 1\n",
        "x0 = Matrix([[1], [1]])\n",
        "\n",
        "# Symbolically define time variable t\n",
        "t = symbols('t')\n",
        "\n",
        "# Calculate the matrix exponential phi = expm(A*t)\n",
        "phi = exp(A * t)\n",
        "\n",
        "# Calculate the state equation x1 = expm(-A*t) * B * u\n",
        "x1 = (exp(-A * t) * B) * u\n",
        "\n",
        "# Perform symbolic integration x_zs = int(x1)\n",
        "x_zs = integrate(x1, t)\n",
        "\n",
        "# Calculate the initial state x_zi = phi * x0\n",
        "x_zi = phi * x0\n",
        "\n",
        "# Compute the total state x = x_zi + x_zs\n",
        "x = x_zi + x_zs\n",
        "\n",
        "print(\"phi =\", phi)\n",
        "print(\"x1 =\", x1)\n",
        "print(\"x_zs =\", x_zs)\n",
        "print(\"x_zi =\", x_zi)\n",
        "print(\"x =\", x)\n"
      ],
      "metadata": {
        "colab": {
          "base_uri": "https://localhost:8080/"
        },
        "id": "pra0ICqInU5R",
        "outputId": "c916955f-891c-4abb-d538-e36f01d912bd"
      },
      "execution_count": 3,
      "outputs": [
        {
          "output_type": "stream",
          "name": "stdout",
          "text": [
            "phi = Matrix([[exp(t), 0], [t*exp(t), exp(t)]])\n",
            "x1 = Matrix([[exp(-t)], [-t*exp(-t) + exp(-t)]])\n",
            "x_zs = Matrix([[-exp(-t)], [t*exp(-t)]])\n",
            "x_zi = Matrix([[exp(t)], [t*exp(t) + exp(t)]])\n",
            "x = Matrix([[exp(t) - exp(-t)], [t*exp(t) + t*exp(-t) + exp(t)]])\n"
          ]
        }
      ]
    }
  ]
}