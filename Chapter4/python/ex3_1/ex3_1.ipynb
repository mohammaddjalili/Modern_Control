{
  "nbformat": 4,
  "nbformat_minor": 0,
  "metadata": {
    "colab": {
      "provenance": []
    },
    "kernelspec": {
      "name": "python3",
      "display_name": "Python 3"
    },
    "language_info": {
      "name": "python"
    }
  },
  "cells": [
    {
      "cell_type": "code",
      "source": [
        "import numpy as np\n",
        "import control as ctrl\n",
        "from scipy.linalg import null_space\n",
        "# Define matrices A and C\n",
        "A = np.array([[-1.5, 0.5], [0.5, -1.5]])\n",
        "C = np.array([[1, -1]])\n",
        "\n",
        "# Compute the observability matrix using control library\n",
        "O = ctrl.obsv(A, C)\n",
        "\n",
        "# Compute the rank of the observability matrix\n",
        "rank_O = np.linalg.matrix_rank(O)\n",
        "\n",
        "# Compute the null space of the observability matrix\n",
        "null_O = null_space(O)\n",
        "\n",
        "print(\"Observability matrix O:\\n\", O)\n",
        "print(\"Rank of O:\", rank_O)\n",
        "print(\"Null space of O:\\n\", null_O)\n"
      ],
      "metadata": {
        "colab": {
          "base_uri": "https://localhost:8080/"
        },
        "id": "uUA74VEX9Vpb",
        "outputId": "e0768c47-cfd0-475a-b45d-3c9c01a162e6"
      },
      "execution_count": 17,
      "outputs": [
        {
          "output_type": "stream",
          "name": "stdout",
          "text": [
            "Observability matrix O:\n",
            " [[ 1. -1.]\n",
            " [-2.  2.]]\n",
            "Rank of O: 1\n",
            "Null space of O:\n",
            " [[0.70710678]\n",
            " [0.70710678]]\n"
          ]
        }
      ]
    }
  ]
}