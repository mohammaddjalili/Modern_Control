{
  "nbformat": 4,
  "nbformat_minor": 0,
  "metadata": {
    "colab": {
      "provenance": []
    },
    "kernelspec": {
      "name": "python3",
      "display_name": "Python 3"
    },
    "language_info": {
      "name": "python"
    }
  },
  "cells": [
    {
      "cell_type": "code",
      "source": [
        "\n",
        "#   Example 3-8 of Modern Book\n",
        "\n",
        "import numpy as np\n",
        "from scipy import signal\n",
        "import warnings\n",
        "warnings.filterwarnings('ignore')\n",
        "A = np.array([[0, 1],\n",
        "              [-2, -3]])\n",
        "\n",
        "B = np.array([[1],\n",
        "              [1]])\n",
        "\n",
        "C = np.array([1, 0])\n",
        "\n",
        "D = 0\n",
        "\n",
        "sys = signal.StateSpace(A, B, C, D)\n",
        "eigs = np.linalg.eigvals(A)\n",
        "poles = sys.poles\n",
        "zeros = sys.zeros\n",
        "\n",
        "print(\"Eigenvalues (eigs):\")\n",
        "print(eigs)\n",
        "print(\"Poles (poles):\")\n",
        "print(poles)\n",
        "print(\"Zeros (zeros):\")\n",
        "print(zeros)"
      ],
      "metadata": {
        "colab": {
          "base_uri": "https://localhost:8080/"
        },
        "id": "dBqNzr0kYjYX",
        "outputId": "1525e2cf-9670-4e79-fd6c-1fcd4b230c02"
      },
      "execution_count": 15,
      "outputs": [
        {
          "output_type": "stream",
          "name": "stdout",
          "text": [
            "Eigenvalues (eigs):\n",
            "[-1. -2.]\n",
            "Poles (poles):\n",
            "[-2. -1.]\n",
            "Zeros (zeros):\n",
            "[-4.]\n"
          ]
        }
      ]
    }
  ]
}