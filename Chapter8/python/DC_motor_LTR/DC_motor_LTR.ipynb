{
  "nbformat": 4,
  "nbformat_minor": 0,
  "metadata": {
    "colab": {
      "provenance": []
    },
    "kernelspec": {
      "name": "python3",
      "display_name": "Python 3"
    },
    "language_info": {
      "name": "python"
    }
  },
  "cells": [
    {
      "cell_type": "code",
      "execution_count": 1,
      "metadata": {
        "colab": {
          "base_uri": "https://localhost:8080/"
        },
        "id": "efeaKduTSK-n",
        "outputId": "a75ba8c7-1beb-4ffc-ce44-2ee1ec701909"
      },
      "outputs": [
        {
          "output_type": "stream",
          "name": "stdout",
          "text": [
            "State feedback gain matrix, K:\n",
            "[[ 3.          0.87955069  0.15290229 -1.8189703 ]]\n",
            "Observer gain matrix, G:\n",
            "[[  -1.        ]\n",
            " [ 235.744     ]\n",
            " [-978.17073888]\n",
            " [ -20.48698474]]\n"
          ]
        }
      ],
      "source": [
        "import numpy as np\n",
        "import scipy.linalg\n",
        "from control import lqr, place\n",
        "\n",
        "# Define the system matrices\n",
        "A = np.array([[0, 1, 0, 0],\n",
        "              [0, 0, 4.438, -7.396],\n",
        "              [0, -12, -24, 0],\n",
        "              [0, 0, 0, -1]])\n",
        "\n",
        "B = np.array([[0],\n",
        "              [0],\n",
        "              [20],\n",
        "              [0]])\n",
        "\n",
        "C = np.array([[1, 0, 0, 0]])\n",
        "\n",
        "# State feedback design using LQR\n",
        "R = np.array([[1]])\n",
        "Q1 = np.diag([9, 0, 0, 0])\n",
        "K, _, _ = lqr(A, B, Q1, R)\n",
        "\n",
        "# State observer design using pole placement\n",
        "pd = np.array([-5-5j, -5+5j, -7+7j, -7-7j])\n",
        "G = place(A.T, C.T, pd).T\n",
        "\n",
        "# Print the results\n",
        "print(\"State feedback gain matrix, K:\")\n",
        "print(K)\n",
        "print(\"Observer gain matrix, G:\")\n",
        "print(G)\n"
      ]
    }
  ]
}