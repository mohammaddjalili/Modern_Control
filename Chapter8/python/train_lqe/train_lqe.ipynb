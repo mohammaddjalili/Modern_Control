{
  "nbformat": 4,
  "nbformat_minor": 0,
  "metadata": {
    "colab": {
      "provenance": []
    },
    "kernelspec": {
      "name": "python3",
      "display_name": "Python 3"
    },
    "language_info": {
      "name": "python"
    }
  },
  "cells": [
    {
      "cell_type": "code",
      "execution_count": 1,
      "metadata": {
        "colab": {
          "base_uri": "https://localhost:8080/"
        },
        "id": "OMXPGjbYF4MH",
        "outputId": "5ba37ad7-d47f-4ef4-ba52-47fc2cda7131"
      },
      "outputs": [
        {
          "output_type": "stream",
          "name": "stdout",
          "text": [
            "Rank of observability matrix: 9\n",
            "Observer gain matrix G:\n",
            "[[1.99058981e+00 1.08544451e-01]\n",
            " [1.49345465e+00 5.01549260e-02]\n",
            " [9.57650109e-01 1.97194771e-02]\n",
            " [4.65320387e-01 6.03124367e-03]\n",
            " [1.08544451e+01 2.01348387e+00]\n",
            " [8.28412633e+00 1.31076277e+00]\n",
            " [4.35271167e+00 8.64094750e-01]\n",
            " [1.54241826e+00 6.05910738e-01]\n",
            " [2.19774769e-01 4.87575800e-01]]\n"
          ]
        }
      ],
      "source": [
        "import numpy as np\n",
        "from scipy.linalg import solve_continuous_are, eigvals\n",
        "\n",
        "# Define the system matrix A\n",
        "A = np.array([\n",
        "    [0, 0, 0, 0, 1, -1, 0, 0, 0],\n",
        "    [0, 0, 0, 0, 0, 1, -1, 0, 0],\n",
        "    [0, 0, 0, 0, 0, 0, 1, -1, 0],\n",
        "    [0, 0, 0, 0, 0, 0, 0, 1, -1],\n",
        "    [-12.5, 0, 0, 0, -0.75, 0.75, 0, 0, 0],\n",
        "    [62.5, -62.5, 0, 0, 3.75, -7.5, 3.75, 0, 0],\n",
        "    [0, 62.5, -62.5, 0, 0, 3.75, -7.5, 3.75, 0],\n",
        "    [0, 0, 62.5, -62.5, 0, 0, 3.75, -7.5, 3.75],\n",
        "    [0, 0, 0, 62.5, 0, 0, 0, 3.75, -3.75]\n",
        "])\n",
        "\n",
        "# Define the output matrix C\n",
        "C = np.array([\n",
        "    [1, 0, 0, 0, 0, 0, 0, 0, 0],\n",
        "    [0, 0, 0, 0, 1, 0, 0, 0, 0]\n",
        "])\n",
        "\n",
        "# Compute the observability matrix\n",
        "O = np.hstack([np.dot(np.linalg.matrix_power(A, i), C.T) for i in range(A.shape[0])])\n",
        "\n",
        "# Check the rank of the observability matrix\n",
        "rank_O = np.linalg.matrix_rank(O)\n",
        "print(\"Rank of observability matrix:\", rank_O)\n",
        "\n",
        "# Define the weight matrices W and V\n",
        "W = np.diag([0, 0, 0, 0, 9, 0, 0, 0, 0])\n",
        "V = np.diag([1e-2, 1])\n",
        "\n",
        "# Solve the continuous-time Algebraic Riccati Equation (ARE)\n",
        "P = solve_continuous_are(A.T, C.T, W, V)\n",
        "\n",
        "# Compute the observer gain matrix G\n",
        "G = np.dot(np.linalg.inv(V), np.dot(C, P)).T\n",
        "\n",
        "print(\"Observer gain matrix G:\")\n",
        "print(G)\n"
      ]
    }
  ]
}