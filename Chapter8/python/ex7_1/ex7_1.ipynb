{
  "nbformat": 4,
  "nbformat_minor": 0,
  "metadata": {
    "colab": {
      "provenance": []
    },
    "kernelspec": {
      "name": "python3",
      "display_name": "Python 3"
    },
    "language_info": {
      "name": "python"
    }
  },
  "cells": [
    {
      "cell_type": "code",
      "source": [
        "import numpy as np\n",
        "from scipy.signal import place_poles\n",
        "\n",
        "# Define the matrix A and vector c\n",
        "A = np.array([\n",
        "    [0, 1, 0, 0],\n",
        "    [0, 0, 4.438, -7.396],\n",
        "    [0, -12, -24, 0],\n",
        "    [0, 0, 0, 0]\n",
        "])\n",
        "\n",
        "c = np.array([[1], [0], [0], [0]])\n",
        "\n",
        "# Define the desired pole locations\n",
        "pd = np.array([-5 + 5j, -5 - 5j, -7 + 7j, -7 - 7j])\n",
        "\n",
        "# Use the place_poles function to find the gain matrix G\n",
        "result = place_poles(A.T, c, pd)\n",
        "G = result.gain_matrix\n",
        "\n",
        "# Print the result\n",
        "print(\"Gain matrix G:\\n\", G)\n"
      ],
      "metadata": {
        "colab": {
          "base_uri": "https://localhost:8080/"
        },
        "id": "GaNXcLK1EKCq",
        "outputId": "f1e03f80-f9dd-4000-fe35-96c673e8a9ff"
      },
      "execution_count": 1,
      "outputs": [
        {
          "output_type": "stream",
          "name": "stdout",
          "text": [
            "Gain matrix G:\n",
            " [[-1.60527254e-13  2.34744000e+02 -9.36913625e+02 -2.76050117e+01]]\n"
          ]
        }
      ]
    }
  ]
}