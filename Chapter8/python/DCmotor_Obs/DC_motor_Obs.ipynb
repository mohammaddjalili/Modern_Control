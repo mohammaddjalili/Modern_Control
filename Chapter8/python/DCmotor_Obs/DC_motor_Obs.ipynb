{
  "nbformat": 4,
  "nbformat_minor": 0,
  "metadata": {
    "colab": {
      "provenance": []
    },
    "kernelspec": {
      "name": "python3",
      "display_name": "Python 3"
    },
    "language_info": {
      "name": "python"
    }
  },
  "cells": [
    {
      "cell_type": "code",
      "execution_count": 1,
      "metadata": {
        "id": "T-996lW_Mcl-"
      },
      "outputs": [],
      "source": [
        "import numpy as np\n",
        "\n",
        "# Define global parameters\n",
        "class Parameters:\n",
        "    def __init__(self, Tl):\n",
        "        self.Tl = Tl\n",
        "\n",
        "Par = Parameters(Tl=0.1)  # Example value for Tl\n",
        "\n",
        "def DC_motor_Obs(t, X):\n",
        "    # Extract state variables\n",
        "    x = X[:3]\n",
        "    xh = X[3:]\n",
        "\n",
        "    # Real System Matrices\n",
        "    A = np.array([[0, 1, 0],\n",
        "                  [0, 0, 4.438],\n",
        "                  [0, -12, -24]])\n",
        "    B = np.array([[0, 0],\n",
        "                  [0, -7.396],\n",
        "                  [20, 0]])\n",
        "    C = np.array([1, 0, 0])\n",
        "\n",
        "    Tl = Par.Tl  # Step disturbance\n",
        "    v = 0\n",
        "    u = np.array([v, Tl])\n",
        "\n",
        "    # Real System Model\n",
        "    xp = A @ x + B @ u\n",
        "    y = C @ x\n",
        "\n",
        "    # Observer Matrices\n",
        "    Ah = np.array([[0, 1, 0, 0],\n",
        "                   [0, 0, 4.438, -7.396],\n",
        "                   [0, -12, -24, 0],\n",
        "                   [0, 0, 0, 0]])\n",
        "    Bh = np.array([0, 0, 20, 0])\n",
        "    Ch = np.array([1, 0, 0, 0])\n",
        "    G = np.array([0, 234.7440, -936.9136, -27.6050])\n",
        "\n",
        "    # Observer Model\n",
        "    xhp = Ah @ xh + Bh * v + G * (y - Ch @ xh)\n",
        "\n",
        "    # Augment the real and estimated states\n",
        "    Xp = np.concatenate((xp, xhp))\n",
        "\n",
        "    return Xp"
      ]
    }
  ]
}