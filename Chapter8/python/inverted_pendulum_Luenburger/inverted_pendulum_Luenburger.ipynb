{
  "nbformat": 4,
  "nbformat_minor": 0,
  "metadata": {
    "colab": {
      "provenance": []
    },
    "kernelspec": {
      "name": "python3",
      "display_name": "Python 3"
    },
    "language_info": {
      "name": "python"
    }
  },
  "cells": [
    {
      "cell_type": "code",
      "execution_count": 2,
      "metadata": {
        "id": "XIeBjYirZ0Y5"
      },
      "outputs": [],
      "source": [
        "def inverted_pendulum_luenberger(t, X):\n",
        "    # State variable x = [x; v; theta; omega]\n",
        "    x = X[:4]\n",
        "    psi = X[4]\n",
        "\n",
        "    # Constants\n",
        "    g = 9.8\n",
        "    l = 1\n",
        "    m = 1\n",
        "    M = 1\n",
        "\n",
        "    d1 = M + m * (1 - np.cos(x[2])**2)\n",
        "    d2 = l * d1\n",
        "    k = np.array([-40.0000, -37.3693, -190.6669, -54.7283])\n",
        "\n",
        "    dpsi = -40.0 * x[0] - 37.37 * x[1] - 405.9 * x[2] - 58.73 * psi\n",
        "    omega_h = psi + 4 * x[2]\n",
        "    xh = np.array([x[0], x[1], x[2], omega_h])\n",
        "    F = -k @ x  # State feedback\n",
        "    # F = -k @ xh  # Uncomment for Luenberger Observer Feedback\n",
        "\n",
        "    xp = np.array([\n",
        "        x[1],\n",
        "        (F + m * l * x[3]**2 * np.sin(x[2]) - m * g * np.sin(x[2]) * np.cos(x[2])) / d1,\n",
        "        x[3],\n",
        "        (-F * np.cos(x[2]) - m * l * x[3]**2 * np.sin(x[2]) * np.cos(x[2]) + (M + m) * g * np.sin(x[2])) / d2\n",
        "    ])\n",
        "    return np.concatenate((xp, [dpsi]))"
      ]
    }
  ]
}