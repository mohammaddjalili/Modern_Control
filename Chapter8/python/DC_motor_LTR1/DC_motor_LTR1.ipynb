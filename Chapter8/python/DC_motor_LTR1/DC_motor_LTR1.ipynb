{
  "nbformat": 4,
  "nbformat_minor": 0,
  "metadata": {
    "colab": {
      "provenance": []
    },
    "kernelspec": {
      "name": "python3",
      "display_name": "Python 3"
    },
    "language_info": {
      "name": "python"
    }
  },
  "cells": [
    {
      "cell_type": "code",
      "execution_count": 1,
      "metadata": {
        "id": "yDxu6_MqXFjy"
      },
      "outputs": [],
      "source": [
        "\n",
        "\n",
        "# Global parameter container\n",
        "class Parameters:\n",
        "    def __init__(self, Tl):\n",
        "        self.Tl = Tl\n",
        "\n",
        "# Define the function equivalent to DC_motor_LTR1\n",
        "def DC_motor_LTR1(t, X, Par):\n",
        "    # Model of The Real System\n",
        "    x = X[:3]\n",
        "    A = np.array([[0, 1, 0],\n",
        "                  [0, 0, 4.438],\n",
        "                  [0, -12, -24]])\n",
        "    B = np.array([[0, 0],\n",
        "                  [0, -7.396],\n",
        "                  [20, 0]])\n",
        "    C = np.array([1, 0, 0])\n",
        "    y = C @ x\n",
        "\n",
        "    # Model of the observer with disturbance Tl\n",
        "    xh = X[3:]\n",
        "    Ah = np.array([[0, 1, 0, 0],\n",
        "                   [0, 0, 4.438, -7.396],\n",
        "                   [0, -12, -24, 0],\n",
        "                   [0, 0, 0, -1]])\n",
        "    Bh = np.array([0, 0, 20, 0])\n",
        "    Ch = np.array([1, 0, 0, 0])\n",
        "\n",
        "    # State feedback and state observer gains\n",
        "    k = np.array([3.0000, 0.8796, 0.1529, -1.8190])\n",
        "    G = np.array([-1.0000, 235.7440, -978.1707, -20.4870])\n",
        "\n",
        "    # Final Equations\n",
        "    Tl = Par.Tl * np.exp(-t)  # Exponential disturbance\n",
        "    v = -k @ xh\n",
        "    u = np.array([v, Tl])\n",
        "\n",
        "    xhp = Ah @ xh + Bh * v + G * (y - Ch @ xh)\n",
        "    xp = A @ x + B @ u\n",
        "    return np.concatenate((xp, xhp))\n",
        "\n",
        "\n"
      ]
    }
  ]
}